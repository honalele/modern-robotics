{
 "cells": [
  {
   "cell_type": "markdown",
   "id": "40bfd840-4202-4c71-93dc-30f761538d48",
   "metadata": {},
   "source": [
    "## Module2: Degrees of Freedom of a Rigid Body\n",
    "\n",
    "Configurarion: A specifiation of the position of  all points ofa rigid body in space.\n",
    "C-space: The set of all possible configurations of a robot.\n",
    "Degrees of freedom: The dimension (the minimum number of coordinates needed) to specify the configuration of a rigid body.\n",
    "\n",
    "\n",
    "#### Example: A Degrees of freedom of a Rigid Body in Space\n",
    "\n",
    "![Rigid Body](figures/freedom3.png)\n",
    "![C-space](figures/freedom2.png)\n",
    "![Degrees of freedom](figures/freedom1.png)"
   ]
  },
  {
   "cell_type": "code",
   "execution_count": null,
   "id": "ae4720a5",
   "metadata": {},
   "outputs": [],
   "source": []
  },
  {
   "cell_type": "markdown",
   "id": "bcea3698",
   "metadata": {},
   "source": []
  },
  {
   "cell_type": "markdown",
   "id": "d4c5eeca",
   "metadata": {},
   "source": []
  }
 ],
 "metadata": {
  "kernelspec": {
   "display_name": "Python 3",
   "language": "python",
   "name": "python3"
  },
  "language_info": {
   "codemirror_mode": {
    "name": "ipython",
    "version": 3
   },
   "file_extension": ".py",
   "mimetype": "text/x-python",
   "name": "python",
   "nbconvert_exporter": "python",
   "pygments_lexer": "ipython3",
   "version": "3.10.12"
  }
 },
 "nbformat": 4,
 "nbformat_minor": 5
}
